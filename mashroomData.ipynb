{
 "cells": [
  {
   "cell_type": "code",
   "execution_count": 101,
   "metadata": {
    "id": "Ln2NiiVfyWyx"
   },
   "outputs": [],
   "source": [
    "import pandas as pd\n",
    "import numpy as np\n",
    "import seaborn as sns\n",
    "import matplotlib.pyplot as plt \n",
    "palette=sns.color_palette('Set2')"
   ]
  },
  {
   "cell_type": "code",
   "execution_count": 8,
   "metadata": {
    "id": "ePtQYKZc41QX"
   },
   "outputs": [],
   "source": [
    "data = pd.read_csv(\"MushroomDataset/secondary_data.csv\")"
   ]
  },
  {
   "cell_type": "code",
   "execution_count": 14,
   "metadata": {
    "colab": {
     "base_uri": "https://localhost:8080/",
     "height": 352
    },
    "id": "jjyQaohly0L5",
    "outputId": "861c3d73-a19f-49db-d2b9-39825a83a0e9"
   },
   "outputs": [
    {
     "data": {
      "text/html": [
       "<div>\n",
       "<style scoped>\n",
       "    .dataframe tbody tr th:only-of-type {\n",
       "        vertical-align: middle;\n",
       "    }\n",
       "\n",
       "    .dataframe tbody tr th {\n",
       "        vertical-align: top;\n",
       "    }\n",
       "\n",
       "    .dataframe thead th {\n",
       "        text-align: right;\n",
       "    }\n",
       "</style>\n",
       "<table border=\"1\" class=\"dataframe\">\n",
       "  <thead>\n",
       "    <tr style=\"text-align: right;\">\n",
       "      <th></th>\n",
       "      <th>class</th>\n",
       "      <th>cap-diameter</th>\n",
       "      <th>cap-shape</th>\n",
       "      <th>cap-surface</th>\n",
       "      <th>cap-color</th>\n",
       "      <th>does-bruise-or-bleed</th>\n",
       "      <th>gill-attachment</th>\n",
       "      <th>gill-spacing</th>\n",
       "      <th>gill-color</th>\n",
       "      <th>stem-height</th>\n",
       "      <th>...</th>\n",
       "      <th>stem-root</th>\n",
       "      <th>stem-surface</th>\n",
       "      <th>stem-color</th>\n",
       "      <th>veil-type</th>\n",
       "      <th>veil-color</th>\n",
       "      <th>has-ring</th>\n",
       "      <th>ring-type</th>\n",
       "      <th>spore-print-color</th>\n",
       "      <th>habitat</th>\n",
       "      <th>season</th>\n",
       "    </tr>\n",
       "  </thead>\n",
       "  <tbody>\n",
       "    <tr>\n",
       "      <th>0</th>\n",
       "      <td>p</td>\n",
       "      <td>15.26</td>\n",
       "      <td>x</td>\n",
       "      <td>g</td>\n",
       "      <td>o</td>\n",
       "      <td>f</td>\n",
       "      <td>e</td>\n",
       "      <td>NaN</td>\n",
       "      <td>w</td>\n",
       "      <td>16.95</td>\n",
       "      <td>...</td>\n",
       "      <td>s</td>\n",
       "      <td>y</td>\n",
       "      <td>w</td>\n",
       "      <td>u</td>\n",
       "      <td>w</td>\n",
       "      <td>t</td>\n",
       "      <td>g</td>\n",
       "      <td>NaN</td>\n",
       "      <td>d</td>\n",
       "      <td>w</td>\n",
       "    </tr>\n",
       "    <tr>\n",
       "      <th>1</th>\n",
       "      <td>p</td>\n",
       "      <td>16.60</td>\n",
       "      <td>x</td>\n",
       "      <td>g</td>\n",
       "      <td>o</td>\n",
       "      <td>f</td>\n",
       "      <td>e</td>\n",
       "      <td>NaN</td>\n",
       "      <td>w</td>\n",
       "      <td>17.99</td>\n",
       "      <td>...</td>\n",
       "      <td>s</td>\n",
       "      <td>y</td>\n",
       "      <td>w</td>\n",
       "      <td>u</td>\n",
       "      <td>w</td>\n",
       "      <td>t</td>\n",
       "      <td>g</td>\n",
       "      <td>NaN</td>\n",
       "      <td>d</td>\n",
       "      <td>u</td>\n",
       "    </tr>\n",
       "    <tr>\n",
       "      <th>2</th>\n",
       "      <td>p</td>\n",
       "      <td>14.07</td>\n",
       "      <td>x</td>\n",
       "      <td>g</td>\n",
       "      <td>o</td>\n",
       "      <td>f</td>\n",
       "      <td>e</td>\n",
       "      <td>NaN</td>\n",
       "      <td>w</td>\n",
       "      <td>17.80</td>\n",
       "      <td>...</td>\n",
       "      <td>s</td>\n",
       "      <td>y</td>\n",
       "      <td>w</td>\n",
       "      <td>u</td>\n",
       "      <td>w</td>\n",
       "      <td>t</td>\n",
       "      <td>g</td>\n",
       "      <td>NaN</td>\n",
       "      <td>d</td>\n",
       "      <td>w</td>\n",
       "    </tr>\n",
       "    <tr>\n",
       "      <th>3</th>\n",
       "      <td>p</td>\n",
       "      <td>14.17</td>\n",
       "      <td>f</td>\n",
       "      <td>h</td>\n",
       "      <td>e</td>\n",
       "      <td>f</td>\n",
       "      <td>e</td>\n",
       "      <td>NaN</td>\n",
       "      <td>w</td>\n",
       "      <td>15.77</td>\n",
       "      <td>...</td>\n",
       "      <td>s</td>\n",
       "      <td>y</td>\n",
       "      <td>w</td>\n",
       "      <td>u</td>\n",
       "      <td>w</td>\n",
       "      <td>t</td>\n",
       "      <td>p</td>\n",
       "      <td>NaN</td>\n",
       "      <td>d</td>\n",
       "      <td>w</td>\n",
       "    </tr>\n",
       "    <tr>\n",
       "      <th>4</th>\n",
       "      <td>p</td>\n",
       "      <td>14.64</td>\n",
       "      <td>x</td>\n",
       "      <td>h</td>\n",
       "      <td>o</td>\n",
       "      <td>f</td>\n",
       "      <td>e</td>\n",
       "      <td>NaN</td>\n",
       "      <td>w</td>\n",
       "      <td>16.53</td>\n",
       "      <td>...</td>\n",
       "      <td>s</td>\n",
       "      <td>y</td>\n",
       "      <td>w</td>\n",
       "      <td>u</td>\n",
       "      <td>w</td>\n",
       "      <td>t</td>\n",
       "      <td>p</td>\n",
       "      <td>NaN</td>\n",
       "      <td>d</td>\n",
       "      <td>w</td>\n",
       "    </tr>\n",
       "  </tbody>\n",
       "</table>\n",
       "<p>5 rows × 21 columns</p>\n",
       "</div>"
      ],
      "text/plain": [
       "  class  cap-diameter cap-shape cap-surface cap-color does-bruise-or-bleed  \\\n",
       "0     p         15.26         x           g         o                    f   \n",
       "1     p         16.60         x           g         o                    f   \n",
       "2     p         14.07         x           g         o                    f   \n",
       "3     p         14.17         f           h         e                    f   \n",
       "4     p         14.64         x           h         o                    f   \n",
       "\n",
       "  gill-attachment gill-spacing gill-color  stem-height  ...  stem-root  \\\n",
       "0               e          NaN          w        16.95  ...          s   \n",
       "1               e          NaN          w        17.99  ...          s   \n",
       "2               e          NaN          w        17.80  ...          s   \n",
       "3               e          NaN          w        15.77  ...          s   \n",
       "4               e          NaN          w        16.53  ...          s   \n",
       "\n",
       "  stem-surface stem-color veil-type veil-color has-ring ring-type  \\\n",
       "0            y          w         u          w        t         g   \n",
       "1            y          w         u          w        t         g   \n",
       "2            y          w         u          w        t         g   \n",
       "3            y          w         u          w        t         p   \n",
       "4            y          w         u          w        t         p   \n",
       "\n",
       "  spore-print-color habitat season  \n",
       "0               NaN       d      w  \n",
       "1               NaN       d      u  \n",
       "2               NaN       d      w  \n",
       "3               NaN       d      w  \n",
       "4               NaN       d      w  \n",
       "\n",
       "[5 rows x 21 columns]"
      ]
     },
     "execution_count": 14,
     "metadata": {},
     "output_type": "execute_result"
    }
   ],
   "source": [
    "data.head()"
   ]
  },
  {
   "cell_type": "code",
   "execution_count": 113,
   "metadata": {},
   "outputs": [
    {
     "data": {
      "image/png": "[encoded data removed]",
      "text/plain": [
       "<Figure size 432x432 with 1 Axes>"
      ]
     },
     "metadata": {},
     "output_type": "display_data"
    }
   ],
   "source": [
    "plt.figure(figsize=(6,6))\n",
    "plt.title('Number of examples in each class')\n",
    "g = sns.countplot(x='class', data=data)\n",
    "    \n",
    "plt.legend(labels=[\"Poisonous\",\"Edible\"])\n",
    "    #_ = plt.setp(g.get_xticklabels(), rotation=90)  # Rotate labels\n",
    "\n",
    "\n",
    "for p in g.patches:\n",
    "         txt = str(p.get_height().round(1)) \n",
    "         txt_x = p.get_x() \n",
    "         txt_y = p.get_height()+ 500\n",
    "         g.text(txt_x,txt_y,txt)"
   ]
  },
  {
   "cell_type": "code",
   "execution_count": 139,
   "metadata": {},
   "outputs": [],
   "source": [
    "\n",
    "def plot_nested_countplot(data, label, feature, fsize=(6,6), title_ =\"\", labels_ = None): \n",
    "    plt.figure(figsize=fsize)\n",
    "    temp = (data.groupby(label)[feature]\n",
    "                     .value_counts(normalize=True)\n",
    "                     .rename('percentage')\n",
    "                     .mul(100)\n",
    "                     .reset_index()\n",
    "                     )\n",
    "    g = sns.barplot(x=feature, y=\"percentage\", hue=label, data=temp)\n",
    "    \n",
    "    if(labels_ == None):\n",
    "        plt.legend(labels=data[label].unique())\n",
    "    else:\n",
    "        plt.legend(labels=labels_)\n",
    "    #_ = plt.setp(g.get_xticklabels(), rotation=90)  # Rotate labels\n",
    "    plt.title(title_)\n",
    "\n",
    "    for p in g.patches:\n",
    "         txt = str(p.get_height().round(1)) + '%'\n",
    "         txt_x = p.get_x() \n",
    "         txt_y = p.get_height()+1\n",
    "         g.text(txt_x,txt_y,txt)\n",
    "        \n"
   ]
  },
  {
   "cell_type": "code",
   "execution_count": 150,
   "metadata": {},
   "outputs": [
    {
     "data": {
      "image/png": "[encoded data removed]",
      "text/plain": [
       "<Figure size 576x432 with 1 Axes>"
      ]
     },
     "metadata": {},
     "output_type": "display_data"
    }
   ],
   "source": [
    "plot_nested_countplot(data=data, label='class', feature='season', \n",
    "                      fsize = (8,6),\n",
    "                      title_='Season-wise edible', \n",
    "                      labels_=['Poisonous', 'Edible'])"
   ]
  },
  {
   "cell_type": "code",
   "execution_count": 143,
   "metadata": {},
   "outputs": [
    {
     "name": "stderr",
     "output_type": "stream",
     "text": [
      "posx and posy should be finite values\n",
      "posx and posy should be finite values\n",
      "posx and posy should be finite values\n",
      "posx and posy should be finite values\n",
      "posx and posy should be finite values\n",
      "posx and posy should be finite values\n"
     ]
    },
    {
     "data": {
      "image/png": "[encoded data removed]",
      "text/plain": [
       "<Figure size 864x432 with 1 Axes>"
      ]
     },
     "metadata": {},
     "output_type": "display_data"
    }
   ],
   "source": [
    "plot_nested_countplot(data=data, label='class', feature='habitat', \n",
    "                      fsize = (12,6),\n",
    "                      title_='Habitat-wise edible', \n",
    "                      labels_=['Poisonous', 'Edible'])\n"
   ]
  },
  {
   "cell_type": "code",
   "execution_count": 125,
   "metadata": {},
   "outputs": [
    {
     "data": {
      "image/png": "[encoded data removed]",
      "text/plain": [
       "<Figure size 720x432 with 1 Axes>"
      ]
     },
     "metadata": {},
     "output_type": "display_data"
    }
   ],
   "source": [
    "#Pie Chart for the Sentiments Percentage \n",
    "plt.figure(figsize=(10,6))\n",
    "plt.pie(data['season'].value_counts(), labels=['Winter', 'Summer', 'Autumn', 'Spring'], autopct='%.1f%%', textprops={'color':\"w\"})\n",
    "plt.legend(loc='upper right')\n",
    "plt.axis('equal')\n",
    "plt.title('Examples from each season')\n",
    "plt.show()"
   ]
  },
  {
   "cell_type": "code",
   "execution_count": null,
   "metadata": {},
   "outputs": [],
   "source": []
  },
  {
   "cell_type": "code",
   "execution_count": null,
   "metadata": {},
   "outputs": [],
   "source": []
  },
  {
   "cell_type": "code",
   "execution_count": null,
   "metadata": {},
   "outputs": [],
   "source": []
  },
  {
   "cell_type": "code",
   "execution_count": null,
   "metadata": {
    "id": "dXwEYIBtAgNE"
   },
   "outputs": [],
   "source": []
  },
  {
   "cell_type": "code",
   "execution_count": 10,
   "metadata": {
    "id": "WCXi4sQU9PG2"
   },
   "outputs": [],
   "source": [
    "def categorical_data_labeling_with_missing_value(df, not_categorical_col):\n",
    "\n",
    "  labels = {}\n",
    "  df = df.fillna(0)\n",
    "  for col in df.columns:\n",
    "    if col not in not_categorical_col:\n",
    "      dic_col = {} \n",
    "      unq = df[col].unique()\n",
    "      if 0 in unq:\n",
    "        dic_col['NaN'] = 0\n",
    "        unq = np.delete(unq, np.where(unq==0))\n",
    "      #print(unq)\n",
    "      for i in range(len(unq)):\n",
    "        df[col] = df[col].replace(unq[i], i+1)\n",
    "        dic_col[unq[i]] = i+1;\n",
    "      labels[col] = dic_col;\n",
    "  return df, labels\n"
   ]
  },
  {
   "cell_type": "code",
   "execution_count": 11,
   "metadata": {
    "id": "mdu89Uo0_qBG"
   },
   "outputs": [],
   "source": [
    "not_categorical_col = ['cap-diameter', 'stem-height', 'stem-width' ]\n",
    "df, category_labels = categorical_data_labeling_with_missing_value(data, not_categorical_col)"
   ]
  },
  {
   "cell_type": "code",
   "execution_count": 12,
   "metadata": {
    "colab": {
     "base_uri": "https://localhost:8080/"
    },
    "id": "xNj8ChikEz77",
    "outputId": "9f5abec4-21e5-4595-d81f-3b4a0a3739bb"
   },
   "outputs": [
    {
     "name": "stdout",
     "output_type": "stream",
     "text": [
      "{'class': {'p': 1, 'e': 2}, 'cap-shape': {'x': 1, 'f': 2, 'p': 3, 'b': 4, 'c': 5, 's': 6, 'o': 7}, 'cap-surface': {'NaN': 0, 'g': 1, 'h': 2, 't': 3, 'y': 4, 'e': 5, 's': 6, 'l': 7, 'd': 8, 'w': 9, 'i': 10, 'k': 11}, 'cap-color': {'o': 1, 'e': 2, 'n': 3, 'g': 4, 'r': 5, 'w': 6, 'y': 7, 'p': 8, 'u': 9, 'b': 10, 'l': 11, 'k': 12}, 'does-bruise-or-bleed': {'f': 1, 't': 2}, 'gill-attachment': {'NaN': 0, 'e': 1, 'a': 2, 'd': 3, 's': 4, 'x': 5, 'p': 6, 'f': 7}, 'gill-spacing': {'NaN': 0, 'c': 1, 'd': 2, 'f': 3}, 'gill-color': {'w': 1, 'n': 2, 'p': 3, 'u': 4, 'b': 5, 'g': 6, 'y': 7, 'r': 8, 'e': 9, 'o': 10, 'k': 11, 'f': 12}, 'stem-root': {'NaN': 0, 's': 1, 'b': 2, 'r': 3, 'c': 4, 'f': 5}, 'stem-surface': {'NaN': 0, 'y': 1, 's': 2, 'k': 3, 'i': 4, 'h': 5, 't': 6, 'g': 7, 'f': 8}, 'stem-color': {'w': 1, 'y': 2, 'n': 3, 'u': 4, 'b': 5, 'l': 6, 'r': 7, 'p': 8, 'e': 9, 'k': 10, 'g': 11, 'o': 12, 'f': 13}, 'veil-type': {'NaN': 0, 'u': 1}, 'veil-color': {'NaN': 0, 'w': 1, 'y': 2, 'n': 3, 'e': 4, 'u': 5, 'k': 6}, 'has-ring': {'t': 1, 'f': 2}, 'ring-type': {'NaN': 0, 'g': 1, 'p': 2, 'e': 3, 'l': 4, 'f': 5, 'm': 6, 'r': 7, 'z': 8}, 'spore-print-color': {'NaN': 0, 'w': 1, 'p': 2, 'k': 3, 'r': 4, 'u': 5, 'n': 6, 'g': 7}, 'habitat': {'d': 1, 'm': 2, 'g': 3, 'h': 4, 'l': 5, 'p': 6, 'w': 7, 'u': 8}, 'season': {'w': 1, 'u': 2, 'a': 3, 's': 4}}\n"
     ]
    }
   ],
   "source": [
    "print(category_labels)"
   ]
  },
  {
   "cell_type": "code",
   "execution_count": 13,
   "metadata": {
    "colab": {
     "base_uri": "https://localhost:8080/",
     "height": 540
    },
    "id": "GcRYuj-h1Vw4",
    "outputId": "86bd02d1-5ddf-4784-e683-c3e7b7a47f5e",
    "scrolled": true
   },
   "outputs": [
    {
     "data": {
      "text/html": [
       "<div>\n",
       "<style scoped>\n",
       "    .dataframe tbody tr th:only-of-type {\n",
       "        vertical-align: middle;\n",
       "    }\n",
       "\n",
       "    .dataframe tbody tr th {\n",
       "        vertical-align: top;\n",
       "    }\n",
       "\n",
       "    .dataframe thead th {\n",
       "        text-align: right;\n",
       "    }\n",
       "</style>\n",
       "<table border=\"1\" class=\"dataframe\">\n",
       "  <thead>\n",
       "    <tr style=\"text-align: right;\">\n",
       "      <th></th>\n",
       "      <th>class</th>\n",
       "      <th>cap-diameter</th>\n",
       "      <th>cap-shape</th>\n",
       "      <th>cap-surface</th>\n",
       "      <th>cap-color</th>\n",
       "      <th>does-bruise-or-bleed</th>\n",
       "      <th>gill-attachment</th>\n",
       "      <th>gill-spacing</th>\n",
       "      <th>gill-color</th>\n",
       "      <th>stem-height</th>\n",
       "      <th>...</th>\n",
       "      <th>stem-root</th>\n",
       "      <th>stem-surface</th>\n",
       "      <th>stem-color</th>\n",
       "      <th>veil-type</th>\n",
       "      <th>veil-color</th>\n",
       "      <th>has-ring</th>\n",
       "      <th>ring-type</th>\n",
       "      <th>spore-print-color</th>\n",
       "      <th>habitat</th>\n",
       "      <th>season</th>\n",
       "    </tr>\n",
       "  </thead>\n",
       "  <tbody>\n",
       "    <tr>\n",
       "      <th>0</th>\n",
       "      <td>1</td>\n",
       "      <td>15.26</td>\n",
       "      <td>1</td>\n",
       "      <td>1</td>\n",
       "      <td>1</td>\n",
       "      <td>1</td>\n",
       "      <td>1</td>\n",
       "      <td>0</td>\n",
       "      <td>1</td>\n",
       "      <td>16.95</td>\n",
       "      <td>...</td>\n",
       "      <td>1</td>\n",
       "      <td>1</td>\n",
       "      <td>1</td>\n",
       "      <td>1</td>\n",
       "      <td>1</td>\n",
       "      <td>1</td>\n",
       "      <td>1</td>\n",
       "      <td>0</td>\n",
       "      <td>1</td>\n",
       "      <td>1</td>\n",
       "    </tr>\n",
       "    <tr>\n",
       "      <th>1</th>\n",
       "      <td>1</td>\n",
       "      <td>16.60</td>\n",
       "      <td>1</td>\n",
       "      <td>1</td>\n",
       "      <td>1</td>\n",
       "      <td>1</td>\n",
       "      <td>1</td>\n",
       "      <td>0</td>\n",
       "      <td>1</td>\n",
       "      <td>17.99</td>\n",
       "      <td>...</td>\n",
       "      <td>1</td>\n",
       "      <td>1</td>\n",
       "      <td>1</td>\n",
       "      <td>1</td>\n",
       "      <td>1</td>\n",
       "      <td>1</td>\n",
       "      <td>1</td>\n",
       "      <td>0</td>\n",
       "      <td>1</td>\n",
       "      <td>2</td>\n",
       "    </tr>\n",
       "    <tr>\n",
       "      <th>2</th>\n",
       "      <td>1</td>\n",
       "      <td>14.07</td>\n",
       "      <td>1</td>\n",
       "      <td>1</td>\n",
       "      <td>1</td>\n",
       "      <td>1</td>\n",
       "      <td>1</td>\n",
       "      <td>0</td>\n",
       "      <td>1</td>\n",
       "      <td>17.80</td>\n",
       "      <td>...</td>\n",
       "      <td>1</td>\n",
       "      <td>1</td>\n",
       "      <td>1</td>\n",
       "      <td>1</td>\n",
       "      <td>1</td>\n",
       "      <td>1</td>\n",
       "      <td>1</td>\n",
       "      <td>0</td>\n",
       "      <td>1</td>\n",
       "      <td>1</td>\n",
       "    </tr>\n",
       "    <tr>\n",
       "      <th>3</th>\n",
       "      <td>1</td>\n",
       "      <td>14.17</td>\n",
       "      <td>2</td>\n",
       "      <td>2</td>\n",
       "      <td>2</td>\n",
       "      <td>1</td>\n",
       "      <td>1</td>\n",
       "      <td>0</td>\n",
       "      <td>1</td>\n",
       "      <td>15.77</td>\n",
       "      <td>...</td>\n",
       "      <td>1</td>\n",
       "      <td>1</td>\n",
       "      <td>1</td>\n",
       "      <td>1</td>\n",
       "      <td>1</td>\n",
       "      <td>1</td>\n",
       "      <td>2</td>\n",
       "      <td>0</td>\n",
       "      <td>1</td>\n",
       "      <td>1</td>\n",
       "    </tr>\n",
       "    <tr>\n",
       "      <th>4</th>\n",
       "      <td>1</td>\n",
       "      <td>14.64</td>\n",
       "      <td>1</td>\n",
       "      <td>2</td>\n",
       "      <td>1</td>\n",
       "      <td>1</td>\n",
       "      <td>1</td>\n",
       "      <td>0</td>\n",
       "      <td>1</td>\n",
       "      <td>16.53</td>\n",
       "      <td>...</td>\n",
       "      <td>1</td>\n",
       "      <td>1</td>\n",
       "      <td>1</td>\n",
       "      <td>1</td>\n",
       "      <td>1</td>\n",
       "      <td>1</td>\n",
       "      <td>2</td>\n",
       "      <td>0</td>\n",
       "      <td>1</td>\n",
       "      <td>1</td>\n",
       "    </tr>\n",
       "    <tr>\n",
       "      <th>...</th>\n",
       "      <td>...</td>\n",
       "      <td>...</td>\n",
       "      <td>...</td>\n",
       "      <td>...</td>\n",
       "      <td>...</td>\n",
       "      <td>...</td>\n",
       "      <td>...</td>\n",
       "      <td>...</td>\n",
       "      <td>...</td>\n",
       "      <td>...</td>\n",
       "      <td>...</td>\n",
       "      <td>...</td>\n",
       "      <td>...</td>\n",
       "      <td>...</td>\n",
       "      <td>...</td>\n",
       "      <td>...</td>\n",
       "      <td>...</td>\n",
       "      <td>...</td>\n",
       "      <td>...</td>\n",
       "      <td>...</td>\n",
       "      <td>...</td>\n",
       "    </tr>\n",
       "    <tr>\n",
       "      <th>61064</th>\n",
       "      <td>1</td>\n",
       "      <td>1.18</td>\n",
       "      <td>6</td>\n",
       "      <td>6</td>\n",
       "      <td>7</td>\n",
       "      <td>1</td>\n",
       "      <td>7</td>\n",
       "      <td>3</td>\n",
       "      <td>12</td>\n",
       "      <td>3.93</td>\n",
       "      <td>...</td>\n",
       "      <td>0</td>\n",
       "      <td>0</td>\n",
       "      <td>2</td>\n",
       "      <td>0</td>\n",
       "      <td>0</td>\n",
       "      <td>2</td>\n",
       "      <td>5</td>\n",
       "      <td>0</td>\n",
       "      <td>1</td>\n",
       "      <td>3</td>\n",
       "    </tr>\n",
       "    <tr>\n",
       "      <th>61065</th>\n",
       "      <td>1</td>\n",
       "      <td>1.27</td>\n",
       "      <td>2</td>\n",
       "      <td>6</td>\n",
       "      <td>7</td>\n",
       "      <td>1</td>\n",
       "      <td>7</td>\n",
       "      <td>3</td>\n",
       "      <td>12</td>\n",
       "      <td>3.18</td>\n",
       "      <td>...</td>\n",
       "      <td>0</td>\n",
       "      <td>0</td>\n",
       "      <td>2</td>\n",
       "      <td>0</td>\n",
       "      <td>0</td>\n",
       "      <td>2</td>\n",
       "      <td>5</td>\n",
       "      <td>0</td>\n",
       "      <td>1</td>\n",
       "      <td>3</td>\n",
       "    </tr>\n",
       "    <tr>\n",
       "      <th>61066</th>\n",
       "      <td>1</td>\n",
       "      <td>1.27</td>\n",
       "      <td>6</td>\n",
       "      <td>6</td>\n",
       "      <td>7</td>\n",
       "      <td>1</td>\n",
       "      <td>7</td>\n",
       "      <td>3</td>\n",
       "      <td>12</td>\n",
       "      <td>3.86</td>\n",
       "      <td>...</td>\n",
       "      <td>0</td>\n",
       "      <td>0</td>\n",
       "      <td>2</td>\n",
       "      <td>0</td>\n",
       "      <td>0</td>\n",
       "      <td>2</td>\n",
       "      <td>5</td>\n",
       "      <td>0</td>\n",
       "      <td>1</td>\n",
       "      <td>2</td>\n",
       "    </tr>\n",
       "    <tr>\n",
       "      <th>61067</th>\n",
       "      <td>1</td>\n",
       "      <td>1.24</td>\n",
       "      <td>2</td>\n",
       "      <td>6</td>\n",
       "      <td>7</td>\n",
       "      <td>1</td>\n",
       "      <td>7</td>\n",
       "      <td>3</td>\n",
       "      <td>12</td>\n",
       "      <td>3.56</td>\n",
       "      <td>...</td>\n",
       "      <td>0</td>\n",
       "      <td>0</td>\n",
       "      <td>2</td>\n",
       "      <td>0</td>\n",
       "      <td>0</td>\n",
       "      <td>2</td>\n",
       "      <td>5</td>\n",
       "      <td>0</td>\n",
       "      <td>1</td>\n",
       "      <td>2</td>\n",
       "    </tr>\n",
       "    <tr>\n",
       "      <th>61068</th>\n",
       "      <td>1</td>\n",
       "      <td>1.17</td>\n",
       "      <td>6</td>\n",
       "      <td>6</td>\n",
       "      <td>7</td>\n",
       "      <td>1</td>\n",
       "      <td>7</td>\n",
       "      <td>3</td>\n",
       "      <td>12</td>\n",
       "      <td>3.25</td>\n",
       "      <td>...</td>\n",
       "      <td>0</td>\n",
       "      <td>0</td>\n",
       "      <td>2</td>\n",
       "      <td>0</td>\n",
       "      <td>0</td>\n",
       "      <td>2</td>\n",
       "      <td>5</td>\n",
       "      <td>0</td>\n",
       "      <td>1</td>\n",
       "      <td>2</td>\n",
       "    </tr>\n",
       "  </tbody>\n",
       "</table>\n",
       "<p>61069 rows × 21 columns</p>\n",
       "</div>"
      ],
      "text/plain": [
       "       class  cap-diameter  cap-shape  cap-surface  cap-color  \\\n",
       "0          1         15.26          1            1          1   \n",
       "1          1         16.60          1            1          1   \n",
       "2          1         14.07          1            1          1   \n",
       "3          1         14.17          2            2          2   \n",
       "4          1         14.64          1            2          1   \n",
       "...      ...           ...        ...          ...        ...   \n",
       "61064      1          1.18          6            6          7   \n",
       "61065      1          1.27          2            6          7   \n",
       "61066      1          1.27          6            6          7   \n",
       "61067      1          1.24          2            6          7   \n",
       "61068      1          1.17          6            6          7   \n",
       "\n",
       "       does-bruise-or-bleed  gill-attachment  gill-spacing  gill-color  \\\n",
       "0                         1                1             0           1   \n",
       "1                         1                1             0           1   \n",
       "2                         1                1             0           1   \n",
       "3                         1                1             0           1   \n",
       "4                         1                1             0           1   \n",
       "...                     ...              ...           ...         ...   \n",
       "61064                     1                7             3          12   \n",
       "61065                     1                7             3          12   \n",
       "61066                     1                7             3          12   \n",
       "61067                     1                7             3          12   \n",
       "61068                     1                7             3          12   \n",
       "\n",
       "       stem-height  ...  stem-root  stem-surface  stem-color  veil-type  \\\n",
       "0            16.95  ...          1             1           1          1   \n",
       "1            17.99  ...          1             1           1          1   \n",
       "2            17.80  ...          1             1           1          1   \n",
       "3            15.77  ...          1             1           1          1   \n",
       "4            16.53  ...          1             1           1          1   \n",
       "...            ...  ...        ...           ...         ...        ...   \n",
       "61064         3.93  ...          0             0           2          0   \n",
       "61065         3.18  ...          0             0           2          0   \n",
       "61066         3.86  ...          0             0           2          0   \n",
       "61067         3.56  ...          0             0           2          0   \n",
       "61068         3.25  ...          0             0           2          0   \n",
       "\n",
       "       veil-color  has-ring  ring-type  spore-print-color  habitat  season  \n",
       "0               1         1          1                  0        1       1  \n",
       "1               1         1          1                  0        1       2  \n",
       "2               1         1          1                  0        1       1  \n",
       "3               1         1          2                  0        1       1  \n",
       "4               1         1          2                  0        1       1  \n",
       "...           ...       ...        ...                ...      ...     ...  \n",
       "61064           0         2          5                  0        1       3  \n",
       "61065           0         2          5                  0        1       3  \n",
       "61066           0         2          5                  0        1       2  \n",
       "61067           0         2          5                  0        1       2  \n",
       "61068           0         2          5                  0        1       2  \n",
       "\n",
       "[61069 rows x 21 columns]"
      ]
     },
     "execution_count": 13,
     "metadata": {},
     "output_type": "execute_result"
    }
   ],
   "source": [
    "df"
   ]
  },
  {
   "cell_type": "code",
   "execution_count": 154,
   "metadata": {
    "colab": {
     "base_uri": "https://localhost:8080/"
    },
    "id": "xnR97dQ-H7x5",
    "outputId": "ef97f2e3-3bda-4c99-f19d-bca55801962b",
    "scrolled": true
   },
   "outputs": [
    {
     "data": {
      "text/plain": [
       "1    33888\n",
       "2    27181\n",
       "Name: class, dtype: int64"
      ]
     },
     "execution_count": 154,
     "metadata": {},
     "output_type": "execute_result"
    }
   ],
   "source": [
    "df['class'].value_counts()"
   ]
  },
  {
   "cell_type": "code",
   "execution_count": 155,
   "metadata": {
    "colab": {
     "base_uri": "https://localhost:8080/"
    },
    "id": "478e_VPW5r6P",
    "outputId": "4a01b436-1d0d-4143-852a-55918f7abb9c"
   },
   "outputs": [
    {
     "data": {
      "text/plain": [
       "(61069, 20)"
      ]
     },
     "execution_count": 155,
     "metadata": {},
     "output_type": "execute_result"
    }
   ],
   "source": [
    "X = df.drop(columns=['class'])\n",
    "X.shape"
   ]
  },
  {
   "cell_type": "code",
   "execution_count": 156,
   "metadata": {
    "colab": {
     "base_uri": "https://localhost:8080/"
    },
    "id": "CCd9ox8C7bVf",
    "outputId": "ab35cfea-cc1a-4f55-ef22-1464a1f2e440"
   },
   "outputs": [
    {
     "data": {
      "text/plain": [
       "(61069,)"
      ]
     },
     "execution_count": 156,
     "metadata": {},
     "output_type": "execute_result"
    }
   ],
   "source": [
    "y = df['class']\n",
    "y.shape"
   ]
  },
  {
   "cell_type": "code",
   "execution_count": 157,
   "metadata": {
    "id": "rK3ux8vQFidM"
   },
   "outputs": [],
   "source": [
    "from sklearn.model_selection import train_test_split\n",
    "X_train, X_test, y_train, y_test = train_test_split(X, y, test_size=0.25, random_state = 2)\n"
   ]
  },
  {
   "cell_type": "code",
   "execution_count": 158,
   "metadata": {
    "colab": {
     "base_uri": "https://localhost:8080/"
    },
    "id": "7z3lqZ3GHcJb",
    "outputId": "4e5d2c2e-3663-43d5-e1f0-961a7c07e1a9"
   },
   "outputs": [
    {
     "name": "stdout",
     "output_type": "stream",
     "text": [
      "Train Set: \n",
      " 1    25444\n",
      "2    20357\n",
      "Name: class, dtype: int64\n",
      "Test Set: \n",
      " 1    8444\n",
      "2    6824\n",
      "Name: class, dtype: int64\n"
     ]
    }
   ],
   "source": [
    "print(\"Train Set: \\n\", y_train.value_counts())\n",
    "print(\"Test Set: \\n\", y_test.value_counts())"
   ]
  },
  {
   "cell_type": "code",
   "execution_count": 16,
   "metadata": {
    "id": "xyO5zDuIIb4i",
    "scrolled": true
   },
   "outputs": [
    {
     "data": {
      "text/plain": [
       "0.6703728569323224"
      ]
     },
     "execution_count": 16,
     "metadata": {},
     "output_type": "execute_result"
    }
   ],
   "source": [
    "from sklearn.linear_model import LogisticRegressionCV\n",
    "clf = LogisticRegressionCV(cv=5, random_state=0).fit(X, y)\n",
    "clf.score(X, y)"
   ]
  },
  {
   "cell_type": "code",
   "execution_count": 28,
   "metadata": {
    "colab": {
     "base_uri": "https://localhost:8080/"
    },
    "id": "pHkNxWA9HhG5",
    "outputId": "2cf4ff30-d894-4439-912b-ca0adfdf81dd",
    "scrolled": true
   },
   "outputs": [
    {
     "name": "stdout",
     "output_type": "stream",
     "text": [
      "Nearest Neighbors 0.9996725176840451\n",
      "Linear SVM 0.6789363374377784\n",
      "RBF SVM 0.9474063400576369\n",
      "Decision Tree 0.7475111343987425\n",
      "Random Forest 0.840319622740372\n",
      "Neural Net 0.9619465548860362\n",
      "AdaBoost 0.8156274561173696\n",
      "Naive Bayes 0.6125884202253078\n",
      "QDA 0.7458082263557768\n"
     ]
    }
   ],
   "source": [
    "from matplotlib.colors import ListedColormap\n",
    "from sklearn.model_selection import train_test_split\n",
    "from sklearn.preprocessing import StandardScaler\n",
    "from sklearn.datasets import make_moons, make_circles, make_classification\n",
    "from sklearn.neural_network import MLPClassifier\n",
    "from sklearn.neighbors import KNeighborsClassifier\n",
    "from sklearn.svm import SVC\n",
    "from sklearn.gaussian_process import GaussianProcessClassifier\n",
    "from sklearn.gaussian_process.kernels import RBF\n",
    "from sklearn.tree import DecisionTreeClassifier\n",
    "from sklearn.ensemble import RandomForestClassifier, AdaBoostClassifier\n",
    "from sklearn.naive_bayes import GaussianNB\n",
    "from sklearn.discriminant_analysis import QuadraticDiscriminantAnalysis\n",
    "\n",
    "\n",
    "\n",
    "names = [\n",
    "    \"Nearest Neighbors\",\n",
    "    \"Linear SVM\",\n",
    "    \"RBF SVM\",\n",
    "    \"Decision Tree\",\n",
    "    \"Random Forest\",\n",
    "    \"Neural Net\",\n",
    "    \"AdaBoost\",\n",
    "    \"Naive Bayes\",\n",
    "    \"QDA\",\n",
    "]\n",
    "\n",
    "classifiers = [\n",
    "    KNeighborsClassifier(3),\n",
    "    SVC(kernel=\"linear\", C=0.025),\n",
    "    SVC(gamma=2, C=1),\n",
    "    DecisionTreeClassifier(max_depth=5),\n",
    "    RandomForestClassifier(max_depth=5, n_estimators=10, max_features=1),\n",
    "    MLPClassifier(alpha=1, max_iter=1000),\n",
    "    AdaBoostClassifier(),\n",
    "    GaussianNB(),\n",
    "    QuadraticDiscriminantAnalysis(),\n",
    "]\n",
    "\n",
    "\n",
    "# iterate over classifiers\n",
    "for name, clf in zip(names, classifiers):\n",
    "#     ax = plt.subplot(1, len(classifiers) + 1, i)\n",
    "    clf.fit(X_train, y_train)\n",
    "    score = clf.score(X_test, y_test)\n",
    "    print(name, score)\n"
   ]
  },
  {
   "cell_type": "code",
   "execution_count": null,
   "metadata": {
    "id": "dfiblhgKIZjb"
   },
   "outputs": [],
   "source": []
  },
  {
   "cell_type": "code",
   "execution_count": 159,
   "metadata": {},
   "outputs": [
    {
     "name": "stdout",
     "output_type": "stream",
     "text": [
      "              precision    recall  f1-score   support\n",
      "\n",
      "   Poisonous       1.00      1.00      1.00      8444\n",
      "      Edible       1.00      1.00      1.00      6824\n",
      "\n",
      "    accuracy                           1.00     15268\n",
      "   macro avg       1.00      1.00      1.00     15268\n",
      "weighted avg       1.00      1.00      1.00     15268\n",
      "\n"
     ]
    }
   ],
   "source": [
    "from sklearn.neighbors import KNeighborsClassifier\n",
    "clf = KNeighborsClassifier(3)\n",
    "clf.fit(X_train, y_train)\n",
    "y_pred = clf.predict(X_test)\n",
    "\n",
    "from sklearn.metrics import classification_report\n",
    "target_names = ['Poisonous', 'Edible']\n",
    "print(classification_report(y_test, y_pred, target_names=target_names))"
   ]
  },
  {
   "cell_type": "code",
   "execution_count": 161,
   "metadata": {},
   "outputs": [],
   "source": [
    "import pickle\n",
    "# save the model to disk\n",
    "filename = 'best_model.sav'\n",
    "pickle.dump(clf, open(filename, 'wb'))"
   ]
  },
  {
   "cell_type": "code",
   "execution_count": 163,
   "metadata": {},
   "outputs": [
    {
     "name": "stdout",
     "output_type": "stream",
     "text": [
      "0.9996725176840451\n"
     ]
    }
   ],
   "source": [
    "# load the model from disk\n",
    "loaded_model = pickle.load(open(filename, 'rb'))\n",
    "result = loaded_model.score(X_test, y_test)\n",
    "print(result)"
   ]
  },
  {
   "cell_type": "code",
   "execution_count": null,
   "metadata": {},
   "outputs": [],
   "source": []
  },
  {
   "cell_type": "code",
   "execution_count": null,
   "metadata": {},
   "outputs": [],
   "source": []
  }
 ],
 "metadata": {
  "colab": {
   "name": "mashroomData.ipynb",
   "provenance": []
  },
  "kernelspec": {
   "display_name": "Python 3 (ipykernel)",
   "language": "python",
   "name": "python3"
  },
  "language_info": {
   "codemirror_mode": {
    "name": "ipython",
    "version": 3
   },
   "file_extension": ".py",
   "mimetype": "text/x-python",
   "name": "python",
   "nbconvert_exporter": "python",
   "pygments_lexer": "ipython3",
   "version": "3.8.11"
  }
 },
 "nbformat": 4,
 "nbformat_minor": 1
}

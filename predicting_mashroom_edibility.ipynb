{
  "nbformat": 4,
  "nbformat_minor": 0,
  "metadata": {
    "colab": {
      "provenance": []
    },
    "kernelspec": {
      "name": "python3",
      "display_name": "Python 3"
    },
    "language_info": {
      "name": "python"
    }
  },
  "cells": [
    {
      "cell_type": "code",
      "execution_count": 1,
      "metadata": {
        "colab": {
          "base_uri": "https://localhost:8080/"
        },
        "id": "RvRTBBPa4djV",
        "outputId": "6f4e4719-36a1-4648-b727-72b3f32a11f2"
      },
      "outputs": [
        {
          "output_type": "stream",
          "name": "stdout",
          "text": [
            "Mounted at /content/drive\n"
          ]
        }
      ],
      "source": [
        "from google.colab import drive\n",
        "drive.mount('/content/drive')"
      ]
    },
    {
      "cell_type": "code",
      "source": [
        "import pandas as pd\n",
        "import numpy as np\n",
        "import seaborn as sns\n",
        "import matplotlib.pyplot as plt \n",
        "palette=sns.color_palette('Set2')"
      ],
      "metadata": {
        "id": "h2TXPE7H4iTX"
      },
      "execution_count": 2,
      "outputs": []
    },
    {
      "cell_type": "code",
      "source": [
        "data = pd.read_csv(\"/content/drive/MyDrive/Research/mashroom edibility/MushroomDataset/secondary_data.csv\")"
      ],
      "metadata": {
        "id": "8vDodMzX5Dke"
      },
      "execution_count": 3,
      "outputs": []
    },
    {
      "cell_type": "code",
      "source": [
        "data.head()"
      ],
      "metadata": {
        "colab": {
          "base_uri": "https://localhost:8080/",
          "height": 314
        },
        "id": "8PkxWOH85FPR",
        "outputId": "b29c3abf-61da-4d9f-b7c8-7d4c4698ab90"
      },
      "execution_count": 4,
      "outputs": [
        {
          "output_type": "execute_result",
          "data": {
            "text/plain": [
              "  class  cap-diameter cap-shape cap-surface cap-color does-bruise-or-bleed  \\\n",
              "0     p         15.26         x           g         o                    f   \n",
              "1     p         16.60         x           g         o                    f   \n",
              "2     p         14.07         x           g         o                    f   \n",
              "3     p         14.17         f           h         e                    f   \n",
              "4     p         14.64         x           h         o                    f   \n",
              "\n",
              "  gill-attachment gill-spacing gill-color  stem-height  ...  stem-root  \\\n",
              "0               e          NaN          w        16.95  ...          s   \n",
              "1               e          NaN          w        17.99  ...          s   \n",
              "2               e          NaN          w        17.80  ...          s   \n",
              "3               e          NaN          w        15.77  ...          s   \n",
              "4               e          NaN          w        16.53  ...          s   \n",
              "\n",
              "  stem-surface stem-color veil-type veil-color has-ring ring-type  \\\n",
              "0            y          w         u          w        t         g   \n",
              "1            y          w         u          w        t         g   \n",
              "2            y          w         u          w        t         g   \n",
              "3            y          w         u          w        t         p   \n",
              "4            y          w         u          w        t         p   \n",
              "\n",
              "  spore-print-color habitat season  \n",
              "0               NaN       d      w  \n",
              "1               NaN       d      u  \n",
              "2               NaN       d      w  \n",
              "3               NaN       d      w  \n",
              "4               NaN       d      w  \n",
              "\n",
              "[5 rows x 21 columns]"
            ],
            "text/html": [
              "\n",
              "  <div id=\"df-76b1e826-32af-4a6b-96c1-84eaac977174\">\n",
              "    <div class=\"colab-df-container\">\n",
              "      <div>\n",
              "<style scoped>\n",
              "    .dataframe tbody tr th:only-of-type {\n",
              "        vertical-align: middle;\n",
              "    }\n",
              "\n",
              "    .dataframe tbody tr th {\n",
              "        vertical-align: top;\n",
              "    }\n",
              "\n",
              "    .dataframe thead th {\n",
              "        text-align: right;\n",
              "    }\n",
              "</style>\n",
              "<table border=\"1\" class=\"dataframe\">\n",
              "  <thead>\n",
              "    <tr style=\"text-align: right;\">\n",
              "      <th></th>\n",
              "      <th>class</th>\n",
              "      <th>cap-diameter</th>\n",
              "      <th>cap-shape</th>\n",
              "      <th>cap-surface</th>\n",
              "      <th>cap-color</th>\n",
              "      <th>does-bruise-or-bleed</th>\n",
              "      <th>gill-attachment</th>\n",
              "      <th>gill-spacing</th>\n",
              "      <th>gill-color</th>\n",
              "      <th>stem-height</th>\n",
              "      <th>...</th>\n",
              "      <th>stem-root</th>\n",
              "      <th>stem-surface</th>\n",
              "      <th>stem-color</th>\n",
              "      <th>veil-type</th>\n",
              "      <th>veil-color</th>\n",
              "      <th>has-ring</th>\n",
              "      <th>ring-type</th>\n",
              "      <th>spore-print-color</th>\n",
              "      <th>habitat</th>\n",
              "      <th>season</th>\n",
              "    </tr>\n",
              "  </thead>\n",
              "  <tbody>\n",
              "    <tr>\n",
              "      <th>0</th>\n",
              "      <td>p</td>\n",
              "      <td>15.26</td>\n",
              "      <td>x</td>\n",
              "      <td>g</td>\n",
              "      <td>o</td>\n",
              "      <td>f</td>\n",
              "      <td>e</td>\n",
              "      <td>NaN</td>\n",
              "      <td>w</td>\n",
              "      <td>16.95</td>\n",
              "      <td>...</td>\n",
              "      <td>s</td>\n",
              "      <td>y</td>\n",
              "      <td>w</td>\n",
              "      <td>u</td>\n",
              "      <td>w</td>\n",
              "      <td>t</td>\n",
              "      <td>g</td>\n",
              "      <td>NaN</td>\n",
              "      <td>d</td>\n",
              "      <td>w</td>\n",
              "    </tr>\n",
              "    <tr>\n",
              "      <th>1</th>\n",
              "      <td>p</td>\n",
              "      <td>16.60</td>\n",
              "      <td>x</td>\n",
              "      <td>g</td>\n",
              "      <td>o</td>\n",
              "      <td>f</td>\n",
              "      <td>e</td>\n",
              "      <td>NaN</td>\n",
              "      <td>w</td>\n",
              "      <td>17.99</td>\n",
              "      <td>...</td>\n",
              "      <td>s</td>\n",
              "      <td>y</td>\n",
              "      <td>w</td>\n",
              "      <td>u</td>\n",
              "      <td>w</td>\n",
              "      <td>t</td>\n",
              "      <td>g</td>\n",
              "      <td>NaN</td>\n",
              "      <td>d</td>\n",
              "      <td>u</td>\n",
              "    </tr>\n",
              "    <tr>\n",
              "      <th>2</th>\n",
              "      <td>p</td>\n",
              "      <td>14.07</td>\n",
              "      <td>x</td>\n",
              "      <td>g</td>\n",
              "      <td>o</td>\n",
              "      <td>f</td>\n",
              "      <td>e</td>\n",
              "      <td>NaN</td>\n",
              "      <td>w</td>\n",
              "      <td>17.80</td>\n",
              "      <td>...</td>\n",
              "      <td>s</td>\n",
              "      <td>y</td>\n",
              "      <td>w</td>\n",
              "      <td>u</td>\n",
              "      <td>w</td>\n",
              "      <td>t</td>\n",
              "      <td>g</td>\n",
              "      <td>NaN</td>\n",
              "      <td>d</td>\n",
              "      <td>w</td>\n",
              "    </tr>\n",
              "    <tr>\n",
              "      <th>3</th>\n",
              "      <td>p</td>\n",
              "      <td>14.17</td>\n",
              "      <td>f</td>\n",
              "      <td>h</td>\n",
              "      <td>e</td>\n",
              "      <td>f</td>\n",
              "      <td>e</td>\n",
              "      <td>NaN</td>\n",
              "      <td>w</td>\n",
              "      <td>15.77</td>\n",
              "      <td>...</td>\n",
              "      <td>s</td>\n",
              "      <td>y</td>\n",
              "      <td>w</td>\n",
              "      <td>u</td>\n",
              "      <td>w</td>\n",
              "      <td>t</td>\n",
              "      <td>p</td>\n",
              "      <td>NaN</td>\n",
              "      <td>d</td>\n",
              "      <td>w</td>\n",
              "    </tr>\n",
              "    <tr>\n",
              "      <th>4</th>\n",
              "      <td>p</td>\n",
              "      <td>14.64</td>\n",
              "      <td>x</td>\n",
              "      <td>h</td>\n",
              "      <td>o</td>\n",
              "      <td>f</td>\n",
              "      <td>e</td>\n",
              "      <td>NaN</td>\n",
              "      <td>w</td>\n",
              "      <td>16.53</td>\n",
              "      <td>...</td>\n",
              "      <td>s</td>\n",
              "      <td>y</td>\n",
              "      <td>w</td>\n",
              "      <td>u</td>\n",
              "      <td>w</td>\n",
              "      <td>t</td>\n",
              "      <td>p</td>\n",
              "      <td>NaN</td>\n",
              "      <td>d</td>\n",
              "      <td>w</td>\n",
              "    </tr>\n",
              "  </tbody>\n",
              "</table>\n",
              "<p>5 rows × 21 columns</p>\n",
              "</div>\n",
              "      <button class=\"colab-df-convert\" onclick=\"convertToInteractive('df-76b1e826-32af-4a6b-96c1-84eaac977174')\"\n",
              "              title=\"Convert this dataframe to an interactive table.\"\n",
              "              style=\"display:none;\">\n",
              "        \n",
              "  <svg xmlns=\"http://www.w3.org/2000/svg\" height=\"24px\"viewBox=\"0 0 24 24\"\n",
              "       width=\"24px\">\n",
              "    <path d=\"M0 0h24v24H0V0z\" fill=\"none\"/>\n",
              "    <path d=\"M18.56 5.44l.94 2.06.94-2.06 2.06-.94-2.06-.94-.94-2.06-.94 2.06-2.06.94zm-11 1L8.5 8.5l.94-2.06 2.06-.94-2.06-.94L8.5 2.5l-.94 2.06-2.06.94zm10 10l.94 2.06.94-2.06 2.06-.94-2.06-.94-.94-2.06-.94 2.06-2.06.94z\"/><path d=\"M17.41 7.96l-1.37-1.37c-.4-.4-.92-.59-1.43-.59-.52 0-1.04.2-1.43.59L10.3 9.45l-7.72 7.72c-.78.78-.78 2.05 0 2.83L4 21.41c.39.39.9.59 1.41.59.51 0 1.02-.2 1.41-.59l7.78-7.78 2.81-2.81c.8-.78.8-2.07 0-2.86zM5.41 20L4 18.59l7.72-7.72 1.47 1.35L5.41 20z\"/>\n",
              "  </svg>\n",
              "      </button>\n",
              "      \n",
              "  <style>\n",
              "    .colab-df-container {\n",
              "      display:flex;\n",
              "      flex-wrap:wrap;\n",
              "      gap: 12px;\n",
              "    }\n",
              "\n",
              "    .colab-df-convert {\n",
              "      background-color: #E8F0FE;\n",
              "      border: none;\n",
              "      border-radius: 50%;\n",
              "      cursor: pointer;\n",
              "      display: none;\n",
              "      fill: #1967D2;\n",
              "      height: 32px;\n",
              "      padding: 0 0 0 0;\n",
              "      width: 32px;\n",
              "    }\n",
              "\n",
              "    .colab-df-convert:hover {\n",
              "      background-color: #E2EBFA;\n",
              "      box-shadow: 0px 1px 2px rgba(60, 64, 67, 0.3), 0px 1px 3px 1px rgba(60, 64, 67, 0.15);\n",
              "      fill: #174EA6;\n",
              "    }\n",
              "\n",
              "    [theme=dark] .colab-df-convert {\n",
              "      background-color: #3B4455;\n",
              "      fill: #D2E3FC;\n",
              "    }\n",
              "\n",
              "    [theme=dark] .colab-df-convert:hover {\n",
              "      background-color: #434B5C;\n",
              "      box-shadow: 0px 1px 3px 1px rgba(0, 0, 0, 0.15);\n",
              "      filter: drop-shadow(0px 1px 2px rgba(0, 0, 0, 0.3));\n",
              "      fill: #FFFFFF;\n",
              "    }\n",
              "  </style>\n",
              "\n",
              "      <script>\n",
              "        const buttonEl =\n",
              "          document.querySelector('#df-76b1e826-32af-4a6b-96c1-84eaac977174 button.colab-df-convert');\n",
              "        buttonEl.style.display =\n",
              "          google.colab.kernel.accessAllowed ? 'block' : 'none';\n",
              "\n",
              "        async function convertToInteractive(key) {\n",
              "          const element = document.querySelector('#df-76b1e826-32af-4a6b-96c1-84eaac977174');\n",
              "          const dataTable =\n",
              "            await google.colab.kernel.invokeFunction('convertToInteractive',\n",
              "                                                     [key], {});\n",
              "          if (!dataTable) return;\n",
              "\n",
              "          const docLinkHtml = 'Like what you see? Visit the ' +\n",
              "            '<a target=\"_blank\" href=https://colab.research.google.com/notebooks/data_table.ipynb>data table notebook</a>'\n",
              "            + ' to learn more about interactive tables.';\n",
              "          element.innerHTML = '';\n",
              "          dataTable['output_type'] = 'display_data';\n",
              "          await google.colab.output.renderOutput(dataTable, element);\n",
              "          const docLink = document.createElement('div');\n",
              "          docLink.innerHTML = docLinkHtml;\n",
              "          element.appendChild(docLink);\n",
              "        }\n",
              "      </script>\n",
              "    </div>\n",
              "  </div>\n",
              "  "
            ]
          },
          "metadata": {},
          "execution_count": 4
        }
      ]
    },
    {
      "cell_type": "code",
      "source": [
        "plt.figure(figsize=(6,6))\n",
        "plt.title('Number of examples in each class')\n",
        "g = sns.countplot(x='class', data=data)\n",
        "    \n",
        "plt.legend(labels=[\"Poisonous\",\"Edible\"])\n",
        "    #_ = plt.setp(g.get_xticklabels(), rotation=90)  # Rotate labels\n",
        "\n",
        "\n",
        "for p in g.patches:\n",
        "         txt = str(p.get_height().round(1)) \n",
        "         txt_x = p.get_x() \n",
        "         txt_y = p.get_height()+ 500\n",
        "         g.text(txt_x,txt_y,txt)"
      ],
      "metadata": {
        "colab": {
          "base_uri": "https://localhost:8080/",
          "height": 404
        },
        "id": "OcWl8_rn5Jql",
        "outputId": "c7d76989-cfd4-462d-abf8-2a43eb6a3591"
      },
      "execution_count": 5,
      "outputs": [
        {
          "output_type": "display_data",
          "data": {
            "text/plain": [
              "<Figure size 432x432 with 1 Axes>"
            ],
            "image/png": "[encoded data removed]"
          },
          "metadata": {
            "needs_background": "light"
          }
        }
      ]
    },
    {
      "cell_type": "code",
      "source": [
        "def plot_nested_countplot(data, label, feature, fsize=(6,6), title_ =\"\", labels_ = None): \n",
        "    plt.figure(figsize=fsize)\n",
        "    temp = (data.groupby(label)[feature]\n",
        "                     .value_counts(normalize=True)\n",
        "                     .rename('percentage')\n",
        "                     .mul(100)\n",
        "                     .reset_index()\n",
        "                     )\n",
        "    g = sns.barplot(x=feature, y=\"percentage\", hue=label, data=temp)\n",
        "    \n",
        "    if(labels_ == None):\n",
        "        plt.legend(labels=data[label].unique())\n",
        "    else:\n",
        "        plt.legend(labels=labels_)\n",
        "    #_ = plt.setp(g.get_xticklabels(), rotation=90)  # Rotate labels\n",
        "    plt.title(title_)\n",
        "\n",
        "    for p in g.patches:\n",
        "         txt = str(p.get_height().round(1)) + '%'\n",
        "         txt_x = p.get_x() \n",
        "         txt_y = p.get_height()+1\n",
        "         g.text(txt_x,txt_y,txt)"
      ],
      "metadata": {
        "id": "R4wbNGMi5Na3"
      },
      "execution_count": 6,
      "outputs": []
    },
    {
      "cell_type": "code",
      "source": [
        "plot_nested_countplot(data=data, label='class', feature='season', \n",
        "                      fsize = (8,6),\n",
        "                      title_='Season-wise edible', \n",
        "                      labels_=['Poisonous', 'Edible'])"
      ],
      "metadata": {
        "colab": {
          "base_uri": "https://localhost:8080/",
          "height": 404
        },
        "id": "vSX2YWGN5UQ1",
        "outputId": "323665d6-c4a5-4535-c1be-60f0386ec830"
      },
      "execution_count": 7,
      "outputs": [
        {
          "output_type": "display_data",
          "data": {
            "text/plain": [
              "<Figure size 576x432 with 1 Axes>"
            ],
            "image/png": "[encoded data removed]"
          },
          "metadata": {
            "needs_background": "light"
          }
        }
      ]
    },
    {
      "cell_type": "code",
      "source": [
        "plot_nested_countplot(data=data, label='class', feature='habitat', \n",
        "                      fsize = (12,6),\n",
        "                      title_='Habitat-wise edible', \n",
        "                      labels_=['Poisonous', 'Edible'])"
      ],
      "metadata": {
        "colab": {
          "base_uri": "https://localhost:8080/",
          "height": 560
        },
        "id": "qJ7nrzEQ5V3E",
        "outputId": "ceeff12a-f2ef-46be-b2f7-cb6408ec1dfd"
      },
      "execution_count": 8,
      "outputs": [
        {
          "output_type": "stream",
          "name": "stderr",
          "text": [
            "WARNING:matplotlib.text:posx and posy should be finite values\n",
            "WARNING:matplotlib.text:posx and posy should be finite values\n",
            "WARNING:matplotlib.text:posx and posy should be finite values\n",
            "WARNING:matplotlib.text:posx and posy should be finite values\n",
            "WARNING:matplotlib.text:posx and posy should be finite values\n",
            "WARNING:matplotlib.text:posx and posy should be finite values\n",
            "WARNING:matplotlib.text:posx and posy should be finite values\n",
            "WARNING:matplotlib.text:posx and posy should be finite values\n",
            "WARNING:matplotlib.text:posx and posy should be finite values\n"
          ]
        },
        {
          "output_type": "display_data",
          "data": {
            "text/plain": [
              "<Figure size 864x432 with 1 Axes>"
            ],
            "image/png": "[encoded data removed]"
          },
          "metadata": {
            "needs_background": "light"
          }
        }
      ]
    },
    {
      "cell_type": "code",
      "source": [
        "#Pie Chart for the Sentiments Percentage \n",
        "plt.figure(figsize=(10,6))\n",
        "plt.pie(data['season'].value_counts(), labels=['Winter', 'Summer', 'Autumn', 'Spring'], autopct='%.1f%%', textprops={'color':\"w\"})\n",
        "plt.legend(loc='upper right')\n",
        "plt.axis('equal')\n",
        "plt.title('Examples from each season')\n",
        "plt.show()"
      ],
      "metadata": {
        "colab": {
          "base_uri": "https://localhost:8080/",
          "height": 373
        },
        "id": "kaKcKXKZ5cBD",
        "outputId": "7c883b37-e6e7-404a-91e2-1e4d9b5272aa"
      },
      "execution_count": 9,
      "outputs": [
        {
          "output_type": "display_data",
          "data": {
            "text/plain": [
              "<Figure size 720x432 with 1 Axes>"
            ],
            "image/png": "[encoded data removed]"
          },
          "metadata": {}
        }
      ]
    },
    {
      "cell_type": "code",
      "source": [
        "## Density plot\n",
        "# It is abstracted histogram with smooth curve. \n",
        "data.plot(kind='density', subplots=True, layout=(5,4), sharex=False)\n",
        "plt.rcParams[\"figure.figsize\"] = (15,10)\n",
        "plt.show()"
      ],
      "metadata": {
        "colab": {
          "base_uri": "https://localhost:8080/",
          "height": 145
        },
        "id": "Bakr7BeA6D8R",
        "outputId": "675eda43-f02e-47f7-ddea-30ce0f2fcdd8"
      },
      "execution_count": 11,
      "outputs": [
        {
          "output_type": "display_data",
          "data": {
            "text/plain": [
              "<Figure size 1080x720 with 20 Axes>"
            ],
            "image/png": "[encoded data removed]"
          },
          "metadata": {
            "needs_background": "light"
          }
        }
      ]
    },
    {
      "cell_type": "code",
      "source": [
        "def categorical_data_labeling_with_missing_value(df, not_categorical_col):\n",
        "\n",
        "  labels = {}\n",
        "  df = df.fillna(0)\n",
        "  for col in df.columns:\n",
        "    if col not in not_categorical_col:\n",
        "      dic_col = {} \n",
        "      unq = df[col].unique()\n",
        "      if 0 in unq:\n",
        "        dic_col['NaN'] = 0\n",
        "        unq = np.delete(unq, np.where(unq==0))\n",
        "      #print(unq)\n",
        "      for i in range(len(unq)):\n",
        "        df[col] = df[col].replace(unq[i], i+1)\n",
        "        dic_col[unq[i]] = i+1;\n",
        "      labels[col] = dic_col;\n",
        "  return df, labels"
      ],
      "metadata": {
        "id": "P4-a-toU5fX9"
      },
      "execution_count": 12,
      "outputs": []
    },
    {
      "cell_type": "code",
      "source": [
        "not_categorical_col = ['cap-diameter', 'stem-height', 'stem-width' ]\n",
        "df, category_labels = categorical_data_labeling_with_missing_value(data, not_categorical_col)"
      ],
      "metadata": {
        "id": "ztjClKV35iEV"
      },
      "execution_count": 13,
      "outputs": []
    },
    {
      "cell_type": "code",
      "source": [
        "print(category_labels)"
      ],
      "metadata": {
        "colab": {
          "base_uri": "https://localhost:8080/"
        },
        "id": "69cyapF25jsl",
        "outputId": "ac9cd5d4-1e70-4e7b-8bfe-e2883515c9b7"
      },
      "execution_count": 14,
      "outputs": [
        {
          "output_type": "stream",
          "name": "stdout",
          "text": [
            "{'class': {'p': 1, 'e': 2}, 'cap-shape': {'x': 1, 'f': 2, 'p': 3, 'b': 4, 'c': 5, 's': 6, 'o': 7}, 'cap-surface': {'NaN': 0, 'g': 1, 'h': 2, 't': 3, 'y': 4, 'e': 5, 's': 6, 'l': 7, 'd': 8, 'w': 9, 'i': 10, 'k': 11}, 'cap-color': {'o': 1, 'e': 2, 'n': 3, 'g': 4, 'r': 5, 'w': 6, 'y': 7, 'p': 8, 'u': 9, 'b': 10, 'l': 11, 'k': 12}, 'does-bruise-or-bleed': {'f': 1, 't': 2}, 'gill-attachment': {'NaN': 0, 'e': 1, 'a': 2, 'd': 3, 's': 4, 'x': 5, 'p': 6, 'f': 7}, 'gill-spacing': {'NaN': 0, 'c': 1, 'd': 2, 'f': 3}, 'gill-color': {'w': 1, 'n': 2, 'p': 3, 'u': 4, 'b': 5, 'g': 6, 'y': 7, 'r': 8, 'e': 9, 'o': 10, 'k': 11, 'f': 12}, 'stem-root': {'NaN': 0, 's': 1, 'b': 2, 'r': 3, 'c': 4, 'f': 5}, 'stem-surface': {'NaN': 0, 'y': 1, 's': 2, 'k': 3, 'i': 4, 'h': 5, 't': 6, 'g': 7, 'f': 8}, 'stem-color': {'w': 1, 'y': 2, 'n': 3, 'u': 4, 'b': 5, 'l': 6, 'r': 7, 'p': 8, 'e': 9, 'k': 10, 'g': 11, 'o': 12, 'f': 13}, 'veil-type': {'NaN': 0, 'u': 1}, 'veil-color': {'NaN': 0, 'w': 1, 'y': 2, 'n': 3, 'e': 4, 'u': 5, 'k': 6}, 'has-ring': {'t': 1, 'f': 2}, 'ring-type': {'NaN': 0, 'g': 1, 'p': 2, 'e': 3, 'l': 4, 'f': 5, 'm': 6, 'r': 7, 'z': 8}, 'spore-print-color': {'NaN': 0, 'w': 1, 'p': 2, 'k': 3, 'r': 4, 'u': 5, 'n': 6, 'g': 7}, 'habitat': {'d': 1, 'm': 2, 'g': 3, 'h': 4, 'l': 5, 'p': 6, 'w': 7, 'u': 8}, 'season': {'w': 1, 'u': 2, 'a': 3, 's': 4}}\n"
          ]
        }
      ]
    },
    {
      "cell_type": "code",
      "source": [
        "df"
      ],
      "metadata": {
        "colab": {
          "base_uri": "https://localhost:8080/",
          "height": 502
        },
        "id": "2FK0IUhH5k6X",
        "outputId": "dc7cdabd-8d5e-47c8-f2ed-57e70787a1c7"
      },
      "execution_count": 15,
      "outputs": [
        {
          "output_type": "execute_result",
          "data": {
            "text/plain": [
              "       class  cap-diameter  cap-shape  cap-surface  cap-color  \\\n",
              "0          1         15.26          1            1          1   \n",
              "1          1         16.60          1            1          1   \n",
              "2          1         14.07          1            1          1   \n",
              "3          1         14.17          2            2          2   \n",
              "4          1         14.64          1            2          1   \n",
              "...      ...           ...        ...          ...        ...   \n",
              "61064      1          1.18          6            6          7   \n",
              "61065      1          1.27          2            6          7   \n",
              "61066      1          1.27          6            6          7   \n",
              "61067      1          1.24          2            6          7   \n",
              "61068      1          1.17          6            6          7   \n",
              "\n",
              "       does-bruise-or-bleed  gill-attachment  gill-spacing  gill-color  \\\n",
              "0                         1                1             0           1   \n",
              "1                         1                1             0           1   \n",
              "2                         1                1             0           1   \n",
              "3                         1                1             0           1   \n",
              "4                         1                1             0           1   \n",
              "...                     ...              ...           ...         ...   \n",
              "61064                     1                7             3          12   \n",
              "61065                     1                7             3          12   \n",
              "61066                     1                7             3          12   \n",
              "61067                     1                7             3          12   \n",
              "61068                     1                7             3          12   \n",
              "\n",
              "       stem-height  ...  stem-root  stem-surface  stem-color  veil-type  \\\n",
              "0            16.95  ...          1             1           1          1   \n",
              "1            17.99  ...          1             1           1          1   \n",
              "2            17.80  ...          1             1           1          1   \n",
              "3            15.77  ...          1             1           1          1   \n",
              "4            16.53  ...          1             1           1          1   \n",
              "...            ...  ...        ...           ...         ...        ...   \n",
              "61064         3.93  ...          0             0           2          0   \n",
              "61065         3.18  ...          0             0           2          0   \n",
              "61066         3.86  ...          0             0           2          0   \n",
              "61067         3.56  ...          0             0           2          0   \n",
              "61068         3.25  ...          0             0           2          0   \n",
              "\n",
              "       veil-color  has-ring  ring-type  spore-print-color  habitat  season  \n",
              "0               1         1          1                  0        1       1  \n",
              "1               1         1          1                  0        1       2  \n",
              "2               1         1          1                  0        1       1  \n",
              "3               1         1          2                  0        1       1  \n",
              "4               1         1          2                  0        1       1  \n",
              "...           ...       ...        ...                ...      ...     ...  \n",
              "61064           0         2          5                  0        1       3  \n",
              "61065           0         2          5                  0        1       3  \n",
              "61066           0         2          5                  0        1       2  \n",
              "61067           0         2          5                  0        1       2  \n",
              "61068           0         2          5                  0        1       2  \n",
              "\n",
              "[61069 rows x 21 columns]"
            ],
            "text/html": [
              "\n",
              "  <div id=\"df-e4ef8ba9-ab96-44ed-bd3b-cda0dc40a89f\">\n",
              "    <div class=\"colab-df-container\">\n",
              "      <div>\n",
              "<style scoped>\n",
              "    .dataframe tbody tr th:only-of-type {\n",
              "        vertical-align: middle;\n",
              "    }\n",
              "\n",
              "    .dataframe tbody tr th {\n",
              "        vertical-align: top;\n",
              "    }\n",
              "\n",
              "    .dataframe thead th {\n",
              "        text-align: right;\n",
              "    }\n",
              "</style>\n",
              "<table border=\"1\" class=\"dataframe\">\n",
              "  <thead>\n",
              "    <tr style=\"text-align: right;\">\n",
              "      <th></th>\n",
              "      <th>class</th>\n",
              "      <th>cap-diameter</th>\n",
              "      <th>cap-shape</th>\n",
              "      <th>cap-surface</th>\n",
              "      <th>cap-color</th>\n",
              "      <th>does-bruise-or-bleed</th>\n",
              "      <th>gill-attachment</th>\n",
              "      <th>gill-spacing</th>\n",
              "      <th>gill-color</th>\n",
              "      <th>stem-height</th>\n",
              "      <th>...</th>\n",
              "      <th>stem-root</th>\n",
              "      <th>stem-surface</th>\n",
              "      <th>stem-color</th>\n",
              "      <th>veil-type</th>\n",
              "      <th>veil-color</th>\n",
              "      <th>has-ring</th>\n",
              "      <th>ring-type</th>\n",
              "      <th>spore-print-color</th>\n",
              "      <th>habitat</th>\n",
              "      <th>season</th>\n",
              "    </tr>\n",
              "  </thead>\n",
              "  <tbody>\n",
              "    <tr>\n",
              "      <th>0</th>\n",
              "      <td>1</td>\n",
              "      <td>15.26</td>\n",
              "      <td>1</td>\n",
              "      <td>1</td>\n",
              "      <td>1</td>\n",
              "      <td>1</td>\n",
              "      <td>1</td>\n",
              "      <td>0</td>\n",
              "      <td>1</td>\n",
              "      <td>16.95</td>\n",
              "      <td>...</td>\n",
              "      <td>1</td>\n",
              "      <td>1</td>\n",
              "      <td>1</td>\n",
              "      <td>1</td>\n",
              "      <td>1</td>\n",
              "      <td>1</td>\n",
              "      <td>1</td>\n",
              "      <td>0</td>\n",
              "      <td>1</td>\n",
              "      <td>1</td>\n",
              "    </tr>\n",
              "    <tr>\n",
              "      <th>1</th>\n",
              "      <td>1</td>\n",
              "      <td>16.60</td>\n",
              "      <td>1</td>\n",
              "      <td>1</td>\n",
              "      <td>1</td>\n",
              "      <td>1</td>\n",
              "      <td>1</td>\n",
              "      <td>0</td>\n",
              "      <td>1</td>\n",
              "      <td>17.99</td>\n",
              "      <td>...</td>\n",
              "      <td>1</td>\n",
              "      <td>1</td>\n",
              "      <td>1</td>\n",
              "      <td>1</td>\n",
              "      <td>1</td>\n",
              "      <td>1</td>\n",
              "      <td>1</td>\n",
              "      <td>0</td>\n",
              "      <td>1</td>\n",
              "      <td>2</td>\n",
              "    </tr>\n",
              "    <tr>\n",
              "      <th>2</th>\n",
              "      <td>1</td>\n",
              "      <td>14.07</td>\n",
              "      <td>1</td>\n",
              "      <td>1</td>\n",
              "      <td>1</td>\n",
              "      <td>1</td>\n",
              "      <td>1</td>\n",
              "      <td>0</td>\n",
              "      <td>1</td>\n",
              "      <td>17.80</td>\n",
              "      <td>...</td>\n",
              "      <td>1</td>\n",
              "      <td>1</td>\n",
              "      <td>1</td>\n",
              "      <td>1</td>\n",
              "      <td>1</td>\n",
              "      <td>1</td>\n",
              "      <td>1</td>\n",
              "      <td>0</td>\n",
              "      <td>1</td>\n",
              "      <td>1</td>\n",
              "    </tr>\n",
              "    <tr>\n",
              "      <th>3</th>\n",
              "      <td>1</td>\n",
              "      <td>14.17</td>\n",
              "      <td>2</td>\n",
              "      <td>2</td>\n",
              "      <td>2</td>\n",
              "      <td>1</td>\n",
              "      <td>1</td>\n",
              "      <td>0</td>\n",
              "      <td>1</td>\n",
              "      <td>15.77</td>\n",
              "      <td>...</td>\n",
              "      <td>1</td>\n",
              "      <td>1</td>\n",
              "      <td>1</td>\n",
              "      <td>1</td>\n",
              "      <td>1</td>\n",
              "      <td>1</td>\n",
              "      <td>2</td>\n",
              "      <td>0</td>\n",
              "      <td>1</td>\n",
              "      <td>1</td>\n",
              "    </tr>\n",
              "    <tr>\n",
              "      <th>4</th>\n",
              "      <td>1</td>\n",
              "      <td>14.64</td>\n",
              "      <td>1</td>\n",
              "      <td>2</td>\n",
              "      <td>1</td>\n",
              "      <td>1</td>\n",
              "      <td>1</td>\n",
              "      <td>0</td>\n",
              "      <td>1</td>\n",
              "      <td>16.53</td>\n",
              "      <td>...</td>\n",
              "      <td>1</td>\n",
              "      <td>1</td>\n",
              "      <td>1</td>\n",
              "      <td>1</td>\n",
              "      <td>1</td>\n",
              "      <td>1</td>\n",
              "      <td>2</td>\n",
              "      <td>0</td>\n",
              "      <td>1</td>\n",
              "      <td>1</td>\n",
              "    </tr>\n",
              "    <tr>\n",
              "      <th>...</th>\n",
              "      <td>...</td>\n",
              "      <td>...</td>\n",
              "      <td>...</td>\n",
              "      <td>...</td>\n",
              "      <td>...</td>\n",
              "      <td>...</td>\n",
              "      <td>...</td>\n",
              "      <td>...</td>\n",
              "      <td>...</td>\n",
              "      <td>...</td>\n",
              "      <td>...</td>\n",
              "      <td>...</td>\n",
              "      <td>...</td>\n",
              "      <td>...</td>\n",
              "      <td>...</td>\n",
              "      <td>...</td>\n",
              "      <td>...</td>\n",
              "      <td>...</td>\n",
              "      <td>...</td>\n",
              "      <td>...</td>\n",
              "      <td>...</td>\n",
              "    </tr>\n",
              "    <tr>\n",
              "      <th>61064</th>\n",
              "      <td>1</td>\n",
              "      <td>1.18</td>\n",
              "      <td>6</td>\n",
              "      <td>6</td>\n",
              "      <td>7</td>\n",
              "      <td>1</td>\n",
              "      <td>7</td>\n",
              "      <td>3</td>\n",
              "      <td>12</td>\n",
              "      <td>3.93</td>\n",
              "      <td>...</td>\n",
              "      <td>0</td>\n",
              "      <td>0</td>\n",
              "      <td>2</td>\n",
              "      <td>0</td>\n",
              "      <td>0</td>\n",
              "      <td>2</td>\n",
              "      <td>5</td>\n",
              "      <td>0</td>\n",
              "      <td>1</td>\n",
              "      <td>3</td>\n",
              "    </tr>\n",
              "    <tr>\n",
              "      <th>61065</th>\n",
              "      <td>1</td>\n",
              "      <td>1.27</td>\n",
              "      <td>2</td>\n",
              "      <td>6</td>\n",
              "      <td>7</td>\n",
              "      <td>1</td>\n",
              "      <td>7</td>\n",
              "      <td>3</td>\n",
              "      <td>12</td>\n",
              "      <td>3.18</td>\n",
              "      <td>...</td>\n",
              "      <td>0</td>\n",
              "      <td>0</td>\n",
              "      <td>2</td>\n",
              "      <td>0</td>\n",
              "      <td>0</td>\n",
              "      <td>2</td>\n",
              "      <td>5</td>\n",
              "      <td>0</td>\n",
              "      <td>1</td>\n",
              "      <td>3</td>\n",
              "    </tr>\n",
              "    <tr>\n",
              "      <th>61066</th>\n",
              "      <td>1</td>\n",
              "      <td>1.27</td>\n",
              "      <td>6</td>\n",
              "      <td>6</td>\n",
              "      <td>7</td>\n",
              "      <td>1</td>\n",
              "      <td>7</td>\n",
              "      <td>3</td>\n",
              "      <td>12</td>\n",
              "      <td>3.86</td>\n",
              "      <td>...</td>\n",
              "      <td>0</td>\n",
              "      <td>0</td>\n",
              "      <td>2</td>\n",
              "      <td>0</td>\n",
              "      <td>0</td>\n",
              "      <td>2</td>\n",
              "      <td>5</td>\n",
              "      <td>0</td>\n",
              "      <td>1</td>\n",
              "      <td>2</td>\n",
              "    </tr>\n",
              "    <tr>\n",
              "      <th>61067</th>\n",
              "      <td>1</td>\n",
              "      <td>1.24</td>\n",
              "      <td>2</td>\n",
              "      <td>6</td>\n",
              "      <td>7</td>\n",
              "      <td>1</td>\n",
              "      <td>7</td>\n",
              "      <td>3</td>\n",
              "      <td>12</td>\n",
              "      <td>3.56</td>\n",
              "      <td>...</td>\n",
              "      <td>0</td>\n",
              "      <td>0</td>\n",
              "      <td>2</td>\n",
              "      <td>0</td>\n",
              "      <td>0</td>\n",
              "      <td>2</td>\n",
              "      <td>5</td>\n",
              "      <td>0</td>\n",
              "      <td>1</td>\n",
              "      <td>2</td>\n",
              "    </tr>\n",
              "    <tr>\n",
              "      <th>61068</th>\n",
              "      <td>1</td>\n",
              "      <td>1.17</td>\n",
              "      <td>6</td>\n",
              "      <td>6</td>\n",
              "      <td>7</td>\n",
              "      <td>1</td>\n",
              "      <td>7</td>\n",
              "      <td>3</td>\n",
              "      <td>12</td>\n",
              "      <td>3.25</td>\n",
              "      <td>...</td>\n",
              "      <td>0</td>\n",
              "      <td>0</td>\n",
              "      <td>2</td>\n",
              "      <td>0</td>\n",
              "      <td>0</td>\n",
              "      <td>2</td>\n",
              "      <td>5</td>\n",
              "      <td>0</td>\n",
              "      <td>1</td>\n",
              "      <td>2</td>\n",
              "    </tr>\n",
              "  </tbody>\n",
              "</table>\n",
              "<p>61069 rows × 21 columns</p>\n",
              "</div>\n",
              "      <button class=\"colab-df-convert\" onclick=\"convertToInteractive('df-e4ef8ba9-ab96-44ed-bd3b-cda0dc40a89f')\"\n",
              "              title=\"Convert this dataframe to an interactive table.\"\n",
              "              style=\"display:none;\">\n",
              "        \n",
              "  <svg xmlns=\"http://www.w3.org/2000/svg\" height=\"24px\"viewBox=\"0 0 24 24\"\n",
              "       width=\"24px\">\n",
              "    <path d=\"M0 0h24v24H0V0z\" fill=\"none\"/>\n",
              "    <path d=\"M18.56 5.44l.94 2.06.94-2.06 2.06-.94-2.06-.94-.94-2.06-.94 2.06-2.06.94zm-11 1L8.5 8.5l.94-2.06 2.06-.94-2.06-.94L8.5 2.5l-.94 2.06-2.06.94zm10 10l.94 2.06.94-2.06 2.06-.94-2.06-.94-.94-2.06-.94 2.06-2.06.94z\"/><path d=\"M17.41 7.96l-1.37-1.37c-.4-.4-.92-.59-1.43-.59-.52 0-1.04.2-1.43.59L10.3 9.45l-7.72 7.72c-.78.78-.78 2.05 0 2.83L4 21.41c.39.39.9.59 1.41.59.51 0 1.02-.2 1.41-.59l7.78-7.78 2.81-2.81c.8-.78.8-2.07 0-2.86zM5.41 20L4 18.59l7.72-7.72 1.47 1.35L5.41 20z\"/>\n",
              "  </svg>\n",
              "      </button>\n",
              "      \n",
              "  <style>\n",
              "    .colab-df-container {\n",
              "      display:flex;\n",
              "      flex-wrap:wrap;\n",
              "      gap: 12px;\n",
              "    }\n",
              "\n",
              "    .colab-df-convert {\n",
              "      background-color: #E8F0FE;\n",
              "      border: none;\n",
              "      border-radius: 50%;\n",
              "      cursor: pointer;\n",
              "      display: none;\n",
              "      fill: #1967D2;\n",
              "      height: 32px;\n",
              "      padding: 0 0 0 0;\n",
              "      width: 32px;\n",
              "    }\n",
              "\n",
              "    .colab-df-convert:hover {\n",
              "      background-color: #E2EBFA;\n",
              "      box-shadow: 0px 1px 2px rgba(60, 64, 67, 0.3), 0px 1px 3px 1px rgba(60, 64, 67, 0.15);\n",
              "      fill: #174EA6;\n",
              "    }\n",
              "\n",
              "    [theme=dark] .colab-df-convert {\n",
              "      background-color: #3B4455;\n",
              "      fill: #D2E3FC;\n",
              "    }\n",
              "\n",
              "    [theme=dark] .colab-df-convert:hover {\n",
              "      background-color: #434B5C;\n",
              "      box-shadow: 0px 1px 3px 1px rgba(0, 0, 0, 0.15);\n",
              "      filter: drop-shadow(0px 1px 2px rgba(0, 0, 0, 0.3));\n",
              "      fill: #FFFFFF;\n",
              "    }\n",
              "  </style>\n",
              "\n",
              "      <script>\n",
              "        const buttonEl =\n",
              "          document.querySelector('#df-e4ef8ba9-ab96-44ed-bd3b-cda0dc40a89f button.colab-df-convert');\n",
              "        buttonEl.style.display =\n",
              "          google.colab.kernel.accessAllowed ? 'block' : 'none';\n",
              "\n",
              "        async function convertToInteractive(key) {\n",
              "          const element = document.querySelector('#df-e4ef8ba9-ab96-44ed-bd3b-cda0dc40a89f');\n",
              "          const dataTable =\n",
              "            await google.colab.kernel.invokeFunction('convertToInteractive',\n",
              "                                                     [key], {});\n",
              "          if (!dataTable) return;\n",
              "\n",
              "          const docLinkHtml = 'Like what you see? Visit the ' +\n",
              "            '<a target=\"_blank\" href=https://colab.research.google.com/notebooks/data_table.ipynb>data table notebook</a>'\n",
              "            + ' to learn more about interactive tables.';\n",
              "          element.innerHTML = '';\n",
              "          dataTable['output_type'] = 'display_data';\n",
              "          await google.colab.output.renderOutput(dataTable, element);\n",
              "          const docLink = document.createElement('div');\n",
              "          docLink.innerHTML = docLinkHtml;\n",
              "          element.appendChild(docLink);\n",
              "        }\n",
              "      </script>\n",
              "    </div>\n",
              "  </div>\n",
              "  "
            ]
          },
          "metadata": {},
          "execution_count": 15
        }
      ]
    },
    {
      "cell_type": "code",
      "source": [
        "df['class'].value_counts()"
      ],
      "metadata": {
        "colab": {
          "base_uri": "https://localhost:8080/"
        },
        "id": "GNp4_I-r5m5x",
        "outputId": "0d772b21-8629-4f0a-ded7-2719d9137a36"
      },
      "execution_count": 16,
      "outputs": [
        {
          "output_type": "execute_result",
          "data": {
            "text/plain": [
              "1    33888\n",
              "2    27181\n",
              "Name: class, dtype: int64"
            ]
          },
          "metadata": {},
          "execution_count": 16
        }
      ]
    },
    {
      "cell_type": "code",
      "source": [
        "X = df.drop(columns=['class'])\n",
        "X.shape"
      ],
      "metadata": {
        "colab": {
          "base_uri": "https://localhost:8080/"
        },
        "id": "5JjSoJTJ5p51",
        "outputId": "e3d85f96-75c5-4c11-cd11-d2b462a85edd"
      },
      "execution_count": 17,
      "outputs": [
        {
          "output_type": "execute_result",
          "data": {
            "text/plain": [
              "(61069, 20)"
            ]
          },
          "metadata": {},
          "execution_count": 17
        }
      ]
    },
    {
      "cell_type": "code",
      "source": [
        "y = df['class']\n",
        "y.shape"
      ],
      "metadata": {
        "colab": {
          "base_uri": "https://localhost:8080/"
        },
        "id": "xXuTBiGr5rgX",
        "outputId": "aab30216-804e-494b-a901-f52e528ec5b1"
      },
      "execution_count": 18,
      "outputs": [
        {
          "output_type": "execute_result",
          "data": {
            "text/plain": [
              "(61069,)"
            ]
          },
          "metadata": {},
          "execution_count": 18
        }
      ]
    },
    {
      "cell_type": "code",
      "source": [],
      "metadata": {
        "id": "WK6_mns-pGWT"
      },
      "execution_count": null,
      "outputs": []
    },
    {
      "cell_type": "code",
      "source": [
        "# Information Gain Selection \n",
        "\n",
        "from sklearn.feature_selection import mutual_info_classif \n",
        "import matplotlib.pyplot as plt\n",
        "%matplotlib inline \n",
        "\n",
        "importances = mutual_info_classif(X,y)\n",
        "feat_importances = pd.Series(importances, df.columns[0:len(df.columns)-1])\n",
        "feat_importances.plot(kind='barh')\n",
        "plt.show()"
      ],
      "metadata": {
        "colab": {
          "base_uri": "https://localhost:8080/",
          "height": 265
        },
        "id": "QeDe2mAdpGL7",
        "outputId": "548cd4d0-1011-4b8b-8b67-289fefeacf7a"
      },
      "execution_count": 19,
      "outputs": [
        {
          "output_type": "display_data",
          "data": {
            "text/plain": [
              "<Figure size 432x288 with 1 Axes>"
            ],
            "image/png": "[encoded data removed]"
          },
          "metadata": {
            "needs_background": "light"
          }
        }
      ]
    },
    {
      "cell_type": "code",
      "source": [],
      "metadata": {
        "id": "ulgCpptd6lKh"
      },
      "execution_count": null,
      "outputs": []
    },
    {
      "cell_type": "code",
      "source": [
        "## calculate importance of each feature using a specific classifier \n",
        "\n",
        "from sklearn.ensemble import ExtraTreesClassifier \n",
        "\n",
        "clf = ExtraTreesClassifier().fit(X, y)\n",
        "#print(clf.feature_importances_)\n",
        "\n",
        "num_top_feature = 20\n",
        "import numpy as np \n",
        "sorted_idx = np.argsort(np.array(clf.feature_importances_))[::-1][:num_top_feature]\n",
        "sorted_imp = clf.feature_importances_[sorted_idx]\n",
        "print(sorted_imp)\n",
        "#print(sorted_idx)\n",
        "\n",
        "print('\\n Top ', num_top_feature,'features :\\n')\n",
        "\n",
        "important_features = {}\n",
        "for i in range(len(sorted_idx)):\n",
        "    important_features[X.columns[sorted_idx[i]]] = sorted_imp[i]\n",
        "\n",
        "print(important_features)\n",
        "\n",
        "\n",
        "plt.barh(range(len(important_features)), important_features.values(), align='center')\n",
        "#plt.xticks(range(len(important_features)), list(important_features.keys()))\n",
        "plt.yticks(range(len(important_features)), list(important_features.keys()))\n",
        "\n",
        "plt.show()"
      ],
      "metadata": {
        "colab": {
          "base_uri": "https://localhost:8080/",
          "height": 424
        },
        "id": "hQQttcMr6lGS",
        "outputId": "bd22a75c-d574-4bc3-8b86-3c0520289d05"
      },
      "execution_count": 20,
      "outputs": [
        {
          "output_type": "stream",
          "name": "stdout",
          "text": [
            "[0.09467513 0.08850774 0.08081324 0.07656536 0.07233914 0.06507228\n",
            " 0.06289545 0.05635045 0.05552154 0.04948913 0.04720562 0.03979729\n",
            " 0.03787608 0.03206775 0.03108008 0.03034105 0.02588364 0.02355064\n",
            " 0.01724253 0.01272588]\n",
            "\n",
            " Top  20 features :\n",
            "\n",
            "{'gill-attachment': 0.09467512957955346, 'cap-surface': 0.08850773894236749, 'gill-spacing': 0.08081323504202347, 'stem-surface': 0.07656536041793463, 'stem-color': 0.07233913568905645, 'gill-color': 0.06507228195615576, 'stem-width': 0.06289544822071132, 'stem-root': 0.056350453263118376, 'cap-shape': 0.05552153788896965, 'cap-diameter': 0.04948912693382345, 'cap-color': 0.04720561821660026, 'stem-height': 0.039797289735675825, 'does-bruise-or-bleed': 0.03787607793855528, 'habitat': 0.03206775171274057, 'ring-type': 0.031080084534052935, 'has-ring': 0.03034104842917516, 'spore-print-color': 0.025883639917725937, 'veil-color': 0.023550636051393452, 'season': 0.01724252595650485, 'veil-type': 0.012725879573861626}\n"
          ]
        },
        {
          "output_type": "display_data",
          "data": {
            "text/plain": [
              "<Figure size 432x288 with 1 Axes>"
            ],
            "image/png": "[encoded data removed]"
          },
          "metadata": {
            "needs_background": "light"
          }
        }
      ]
    },
    {
      "cell_type": "code",
      "source": [],
      "metadata": {
        "id": "lTND1LIC6lAC"
      },
      "execution_count": null,
      "outputs": []
    },
    {
      "cell_type": "code",
      "source": [
        "from sklearn.model_selection import train_test_split\n",
        "X_train, X_test, y_train, y_test = train_test_split(X, y, test_size=0.25, random_state = 2)\n",
        "print(\"Train Set: \\n\", y_train.value_counts())\n",
        "print(\"Test Set: \\n\", y_test.value_counts())"
      ],
      "metadata": {
        "colab": {
          "base_uri": "https://localhost:8080/"
        },
        "id": "91IgLxYs5tGd",
        "outputId": "2a1fa19a-8fd3-4eb2-da01-177fb0ce1d46"
      },
      "execution_count": 21,
      "outputs": [
        {
          "output_type": "stream",
          "name": "stdout",
          "text": [
            "Train Set: \n",
            " 1    25444\n",
            "2    20357\n",
            "Name: class, dtype: int64\n",
            "Test Set: \n",
            " 1    8444\n",
            "2    6824\n",
            "Name: class, dtype: int64\n"
          ]
        }
      ]
    },
    {
      "cell_type": "code",
      "source": [],
      "metadata": {
        "id": "cJvZLmwT5xLC"
      },
      "execution_count": null,
      "outputs": []
    },
    {
      "cell_type": "code",
      "source": [
        "## k-fold cross validation allows different sampling of train and test set that gives the more accurate evaluaiton of the model\n",
        "\n",
        "from sklearn.model_selection import KFold\n",
        "from sklearn.model_selection import cross_val_score\n",
        "from sklearn.linear_model import LogisticRegression\n",
        "from sklearn.neighbors import KNeighborsClassifier\n",
        "\n",
        "kfold = KFold(n_splits = 10, random_state = 8, shuffle=True)\n",
        "\n",
        "clf2 = KNeighborsClassifier(3)\n",
        "results = cross_val_score(clf2, X, y, cv=kfold, scoring='accuracy')\n",
        "\n",
        "print(\"==== Accuracy =====\")\n",
        "print(\"Accuracy for each fold: \\n\", results)\n",
        "print(\"Avg. accuracy = \\t\",results.mean()*100.0, \"\\n Standard Deviation = \\t\", results.std()*100.0)\n",
        "\n"
      ],
      "metadata": {
        "colab": {
          "base_uri": "https://localhost:8080/"
        },
        "id": "0t6vumBj6x4K",
        "outputId": "87a5ee41-36c4-4fe7-8f5c-eb5707290ca4"
      },
      "execution_count": 50,
      "outputs": [
        {
          "output_type": "stream",
          "name": "stdout",
          "text": [
            "==== Accuracy =====\n",
            "Accuracy for each fold: \n",
            " [0.99967251 0.99950876 1.         1.         0.99967251 0.99950876\n",
            " 0.99983625 1.         1.         1.        ]\n",
            "Avg. accuracy = \t 99.9819878827575 \n",
            " Standard Deviation = \t 0.019987810079800633\n"
          ]
        }
      ]
    },
    {
      "cell_type": "code",
      "source": [],
      "metadata": {
        "id": "Z-nEIFuVNbxf"
      },
      "execution_count": 49,
      "outputs": []
    },
    {
      "cell_type": "code",
      "source": [
        "## AUC is used for binary classification \n",
        "print(\"==== AUC =====\")\n",
        "results = cross_val_score(clf2, X, y, cv=kfold, scoring='roc_auc')\n",
        "print(\"AUC for each fold: \\n\", results)\n",
        "print(\"Avg. AUC = \\t\",results.mean()*100.0, \"\\n Standard Deviation = \\t\", results.std()*100.0)"
      ],
      "metadata": {
        "id": "WnJA45e46xwC",
        "colab": {
          "base_uri": "https://localhost:8080/"
        },
        "outputId": "0ef15444-22c5-42f7-f37a-cd4f1718ad9d"
      },
      "execution_count": 51,
      "outputs": [
        {
          "output_type": "stream",
          "name": "stdout",
          "text": [
            "==== AUC =====\n",
            "AUC for each fold: \n",
            " [0.99984967 0.99981937 1.         1.         0.99981429 0.99962947\n",
            " 0.99999995 1.         1.         1.        ]\n",
            "Avg. AUC = \t 99.9911274049922 \n",
            " Standard Deviation = \t 0.012177320844816594\n"
          ]
        }
      ]
    },
    {
      "cell_type": "code",
      "source": [
        "# testing the unknown data with KNN"
      ],
      "metadata": {
        "id": "WjK_eb7w7U8R"
      },
      "execution_count": 26,
      "outputs": []
    },
    {
      "cell_type": "code",
      "source": [
        "from sklearn.neighbors import KNeighborsClassifier\n",
        "clf = KNeighborsClassifier(3)\n",
        "clf.fit(X_train, y_train)\n",
        "y_pred = clf.predict(X_test)\n",
        "\n",
        "from sklearn.metrics import classification_report\n",
        "target_names = ['Poisonous', 'Edible']\n",
        "cm = classification_report(y_test, y_pred, target_names=target_names)\n",
        "print(cm)"
      ],
      "metadata": {
        "colab": {
          "base_uri": "https://localhost:8080/"
        },
        "id": "uKzxyn6m7U0a",
        "outputId": "c457fda7-b1fc-46c4-a73e-7c674c9d2f3d"
      },
      "execution_count": 25,
      "outputs": [
        {
          "output_type": "stream",
          "name": "stdout",
          "text": [
            "              precision    recall  f1-score   support\n",
            "\n",
            "   Poisonous       1.00      1.00      1.00      8444\n",
            "      Edible       1.00      1.00      1.00      6824\n",
            "\n",
            "    accuracy                           1.00     15268\n",
            "   macro avg       1.00      1.00      1.00     15268\n",
            "weighted avg       1.00      1.00      1.00     15268\n",
            "\n"
          ]
        }
      ]
    },
    {
      "cell_type": "code",
      "source": [
        "from sklearn.metrics import confusion_matrix, ConfusionMatrixDisplay\n",
        "predictions = clf.predict(X_test)\n",
        "cm = confusion_matrix(y_test, predictions, labels=clf.classes_)\n",
        "disp = ConfusionMatrixDisplay(confusion_matrix=cm, display_labels=['Poisonous', 'Edible'])\n",
        "disp.plot()\n",
        "plt.show()"
      ],
      "metadata": {
        "colab": {
          "base_uri": "https://localhost:8080/",
          "height": 279
        },
        "id": "QI5rk53hLoSG",
        "outputId": "de9b913a-c321-4f58-92ea-08a2638528b8"
      },
      "execution_count": 39,
      "outputs": [
        {
          "output_type": "display_data",
          "data": {
            "text/plain": [
              "<Figure size 432x288 with 2 Axes>"
            ],
            "image/png": "[encoded data removed]"
          },
          "metadata": {
            "needs_background": "light"
          }
        }
      ]
    },
    {
      "cell_type": "code",
      "source": [],
      "metadata": {
        "id": "3bjYhqlxLn_a"
      },
      "execution_count": 38,
      "outputs": []
    },
    {
      "cell_type": "code",
      "source": [],
      "metadata": {
        "id": "KNkG4xzT72p8"
      },
      "execution_count": null,
      "outputs": []
    }
  ]
}